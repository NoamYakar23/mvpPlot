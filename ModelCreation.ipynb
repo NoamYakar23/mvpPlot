{
 "cells": [
  {
   "cell_type": "code",
   "execution_count": 27,
   "id": "f35ce0d1-8e50-4de0-b0e1-32b34da7cfcc",
   "metadata": {},
   "outputs": [],
   "source": [
    "from imblearn.over_sampling import SMOTE\n",
    "from sklearn.model_selection import KFold,cross_val_score\n",
    "from sklearn.metrics import f1_score\n",
    "from sklearn.model_selection import GridSearchCV, ParameterGrid\n",
    "\n",
    "from sklearn.linear_model import LogisticRegression\n",
    "from sklearn.neighbors import KNeighborsClassifier\n",
    "from sklearn import svm\n",
    "\n",
    "import pandas as pd\n",
    "import numpy as np"
   ]
  },
  {
   "cell_type": "code",
   "execution_count": 2,
   "id": "a4252eb1-c413-47dd-a594-acfaebcfee97",
   "metadata": {},
   "outputs": [],
   "source": [
    "data = pd.read_csv('Datasets/MvpVotingUpdatedJan14.csv')\n",
    "data = data.reset_index()"
   ]
  },
  {
   "cell_type": "code",
   "execution_count": 3,
   "id": "aae3c251-f3d0-4c8f-982c-0fbf01cf5f3f",
   "metadata": {},
   "outputs": [],
   "source": [
    "#List for Mvps and Non-Mvps (Every 10)\n",
    "wonList = []\n",
    "for i in range(0, 410):\n",
    "    if i % 10 == 0:\n",
    "        wonList.append(1)\n",
    "    else:\n",
    "        wonList.append(0)\n",
    "        \n"
   ]
  },
  {
   "cell_type": "code",
   "execution_count": 4,
   "id": "0f9ad608-ab62-4a7e-a887-f0e48a12ffe4",
   "metadata": {},
   "outputs": [],
   "source": [
    "#Create Won Column for classification\n",
    "data['Won Mvp'] = wonList\n",
    "\n",
    "#Declare Variables for X and y inputs\n",
    "X = data[['G', 'MP', 'PTS', 'TRB', 'AST', 'STL', 'BLK', 'FG%', 'FT%', 'WS', 'WS/48', 'Year', 'W', 'L']].values\n",
    "y = data['Won Mvp'].values"
   ]
  },
  {
   "cell_type": "code",
   "execution_count": 21,
   "id": "e07a1f55-137c-4deb-aa08-8384abdf7910",
   "metadata": {},
   "outputs": [],
   "source": [
    "#SMOTE: oversample minority class\n",
    "X, y  = SMOTE().fit_resample(X,y)"
   ]
  },
  {
   "cell_type": "code",
   "execution_count": 37,
   "id": "86be6838-529c-4e9c-a8b2-e69cf45ff363",
   "metadata": {},
   "outputs": [
    {
     "name": "stdout",
     "output_type": "stream",
     "text": [
      "Logistic Regression: 86.0496% Mean Accuracy for K-Fold Cross Validation\n",
      "Support Vector Machine: 93.2247% Mean Accuracy for K-Fold Cross Validation\n",
      "K-Nearest Neighbors: 88.0785% Mean Accuracy for K-Fold Cross Validation\n"
     ]
    }
   ],
   "source": [
    "# Create a stratified repeated K-Fold of n = 10, shuffle samples with a random state\n",
    "#Why stratified and repeated and not just regular k-fold? Stratified will maintain class imbalances in classification data, and rpeated will ensure the results are not too noisy!\n",
    "\n",
    "\n",
    "\n",
    "kf = KFold(n_splits=10, shuffle=True, random_state=np.random.randint(100))\n",
    "\n",
    "# Create a dictionary to store the models and their corresponding accuracy values\n",
    "models = {\n",
    "    \"Logistic Regression\": LogisticRegression(penalty='l2', solver='liblinear'),\n",
    "    \"Support Vector Machine\": svm.SVC(gamma='auto'),\n",
    "    \"K-Nearest Neighbors\": KNeighborsClassifier(n_neighbors=5)\n",
    "}\n",
    "\n",
    "# Loop over the models and compute the accuracy scores for each fold\n",
    "for name, model in models.items():\n",
    "    scores = cross_val_score(model, X, y, cv=kf)\n",
    "    mean_score = scores.mean()\n",
    "    print(f\"{name}: {100 * mean_score:.4f}% Mean Accuracy for K-Fold Cross Validation\")\n"
   ]
  },
  {
   "cell_type": "code",
   "execution_count": null,
   "id": "6e3ed90a-0fea-4f5e-b525-56af477a4b83",
   "metadata": {},
   "outputs": [],
   "source": []
  },
  {
   "cell_type": "code",
   "execution_count": null,
   "id": "ff8cfe6d-3683-40b7-a320-ae2dbe5508c2",
   "metadata": {},
   "outputs": [],
   "source": []
  }
 ],
 "metadata": {
  "kernelspec": {
   "display_name": "Python 3 (ipykernel)",
   "language": "python",
   "name": "python3"
  },
  "language_info": {
   "codemirror_mode": {
    "name": "ipython",
    "version": 3
   },
   "file_extension": ".py",
   "mimetype": "text/x-python",
   "name": "python",
   "nbconvert_exporter": "python",
   "pygments_lexer": "ipython3",
   "version": "3.9.1"
  }
 },
 "nbformat": 4,
 "nbformat_minor": 5
}
